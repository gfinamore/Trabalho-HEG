{
 "cells": [
  {
   "cell_type": "markdown",
   "metadata": {},
   "source": [
    "Índice de Allen"
   ]
  },
  {
   "cell_type": "code",
   "execution_count": 2,
   "metadata": {},
   "outputs": [],
   "source": [
    "import pandas as pd\n",
    "\n",
    "import plotly.graph_objects as go\n",
    "import matplotlib.pyplot as plt\n",
    "import plotly.express as px"
   ]
  },
  {
   "cell_type": "code",
   "execution_count": 3,
   "metadata": {},
   "outputs": [
    {
     "data": {
      "text/html": [
       "<div>\n",
       "<style scoped>\n",
       "    .dataframe tbody tr th:only-of-type {\n",
       "        vertical-align: middle;\n",
       "    }\n",
       "\n",
       "    .dataframe tbody tr th {\n",
       "        vertical-align: top;\n",
       "    }\n",
       "\n",
       "    .dataframe thead th {\n",
       "        text-align: right;\n",
       "    }\n",
       "</style>\n",
       "<table border=\"1\" class=\"dataframe\">\n",
       "  <thead>\n",
       "    <tr style=\"text-align: right;\">\n",
       "      <th></th>\n",
       "      <th>Period</th>\n",
       "      <th>Antwerp</th>\n",
       "      <th>Amsterdam</th>\n",
       "      <th>London</th>\n",
       "      <th>Florence/Milan</th>\n",
       "      <th>Madrid</th>\n",
       "      <th>Paris</th>\n",
       "      <th>Gdansk</th>\n",
       "      <th>Krakow</th>\n",
       "    </tr>\n",
       "  </thead>\n",
       "  <tbody>\n",
       "    <tr>\n",
       "      <th>0</th>\n",
       "      <td>1500-1549</td>\n",
       "      <td>2.41</td>\n",
       "      <td>2.02</td>\n",
       "      <td>2.19</td>\n",
       "      <td>1.74</td>\n",
       "      <td>1.61</td>\n",
       "      <td>1.41</td>\n",
       "      <td>1.52</td>\n",
       "      <td>1.92</td>\n",
       "    </tr>\n",
       "    <tr>\n",
       "      <th>1</th>\n",
       "      <td>1550-1599</td>\n",
       "      <td>2.26</td>\n",
       "      <td>1.61</td>\n",
       "      <td>1.86</td>\n",
       "      <td>1.53</td>\n",
       "      <td>1.83</td>\n",
       "      <td>1.45</td>\n",
       "      <td>1.59</td>\n",
       "      <td>1.91</td>\n",
       "    </tr>\n",
       "    <tr>\n",
       "      <th>2</th>\n",
       "      <td>1600-1649</td>\n",
       "      <td>2.27</td>\n",
       "      <td>1.93</td>\n",
       "      <td>1.82</td>\n",
       "      <td>1.62</td>\n",
       "      <td>1.81</td>\n",
       "      <td>1.37</td>\n",
       "      <td>1.65</td>\n",
       "      <td>1.16</td>\n",
       "    </tr>\n",
       "    <tr>\n",
       "      <th>3</th>\n",
       "      <td>1650-1699</td>\n",
       "      <td>2.13</td>\n",
       "      <td>1.99</td>\n",
       "      <td>2.07</td>\n",
       "      <td>1.42</td>\n",
       "      <td>1.91</td>\n",
       "      <td>1.41</td>\n",
       "      <td>1.55</td>\n",
       "      <td>1.37</td>\n",
       "    </tr>\n",
       "    <tr>\n",
       "      <th>4</th>\n",
       "      <td>1700-1749</td>\n",
       "      <td>2.23</td>\n",
       "      <td>2.02</td>\n",
       "      <td>2.21</td>\n",
       "      <td>1.34</td>\n",
       "      <td>1.29</td>\n",
       "      <td>1.18</td>\n",
       "      <td>1.48</td>\n",
       "      <td>1.24</td>\n",
       "    </tr>\n",
       "    <tr>\n",
       "      <th>5</th>\n",
       "      <td>1750-1799</td>\n",
       "      <td>2.13</td>\n",
       "      <td>1.83</td>\n",
       "      <td>2.21</td>\n",
       "      <td>0.97</td>\n",
       "      <td>1.75</td>\n",
       "      <td>1.20</td>\n",
       "      <td>1.25</td>\n",
       "      <td>1.16</td>\n",
       "    </tr>\n",
       "    <tr>\n",
       "      <th>6</th>\n",
       "      <td>1800-1849</td>\n",
       "      <td>2.01</td>\n",
       "      <td>1.49</td>\n",
       "      <td>2.31</td>\n",
       "      <td>1.07</td>\n",
       "      <td>1.72</td>\n",
       "      <td>1.72</td>\n",
       "      <td>1.00</td>\n",
       "      <td>1.30</td>\n",
       "    </tr>\n",
       "    <tr>\n",
       "      <th>7</th>\n",
       "      <td>1850-1899</td>\n",
       "      <td>2.27</td>\n",
       "      <td>1.65</td>\n",
       "      <td>3.34</td>\n",
       "      <td>0.91</td>\n",
       "      <td>1.87</td>\n",
       "      <td>2.14</td>\n",
       "      <td>1.35</td>\n",
       "      <td>1.92</td>\n",
       "    </tr>\n",
       "    <tr>\n",
       "      <th>8</th>\n",
       "      <td>1900-1913</td>\n",
       "      <td>3.07</td>\n",
       "      <td>2.85</td>\n",
       "      <td>4.21</td>\n",
       "      <td>1.68</td>\n",
       "      <td>1.75</td>\n",
       "      <td>2.71</td>\n",
       "      <td>1.00</td>\n",
       "      <td>1.95</td>\n",
       "    </tr>\n",
       "  </tbody>\n",
       "</table>\n",
       "</div>"
      ],
      "text/plain": [
       "      Period  Antwerp  Amsterdam  London  Florence/Milan  Madrid  Paris  \\\n",
       "0  1500-1549     2.41       2.02    2.19            1.74    1.61   1.41   \n",
       "1  1550-1599     2.26       1.61    1.86            1.53    1.83   1.45   \n",
       "2  1600-1649     2.27       1.93    1.82            1.62    1.81   1.37   \n",
       "3  1650-1699     2.13       1.99    2.07            1.42    1.91   1.41   \n",
       "4  1700-1749     2.23       2.02    2.21            1.34    1.29   1.18   \n",
       "5  1750-1799     2.13       1.83    2.21            0.97    1.75   1.20   \n",
       "6  1800-1849     2.01       1.49    2.31            1.07    1.72   1.72   \n",
       "7  1850-1899     2.27       1.65    3.34            0.91    1.87   2.14   \n",
       "8  1900-1913     3.07       2.85    4.21            1.68    1.75   2.71   \n",
       "\n",
       "   Gdansk  Krakow  \n",
       "0    1.52    1.92  \n",
       "1    1.59    1.91  \n",
       "2    1.65    1.16  \n",
       "3    1.55    1.37  \n",
       "4    1.48    1.24  \n",
       "5    1.25    1.16  \n",
       "6    1.00    1.30  \n",
       "7    1.35    1.92  \n",
       "8    1.00    1.95  "
      ]
     },
     "metadata": {},
     "output_type": "display_data"
    }
   ],
   "source": [
    "wr_building_craftsmen = {\n",
    "    'Period': ['1500-1549', '1550-1599', '1600-1649', '1650-1699', '1700-1749', '1750-1799', '1800-1849', '1850-1899', '1900-1913'],\n",
    "    'Antwerp': [2.41, 2.26, 2.27, 2.13, 2.23, 2.13, 2.01, 2.27, 3.07],\n",
    "    'Amsterdam': [2.02, 1.61, 1.93, 1.99, 2.02, 1.83, 1.49, 1.65, 2.85],\n",
    "    'London': [2.19, 1.86, 1.82, 2.07, 2.21, 2.21, 2.31, 3.34, 4.21],\n",
    "    'Florence/Milan': [1.74, 1.53, 1.62, 1.42, 1.34, 0.97, 1.07, 0.91, 1.68],\n",
    "    'Madrid': [1.61, 1.83, 1.81, 1.91, 1.29, 1.75, 1.72, 1.87, 1.75],\n",
    "    'Paris': [1.41, 1.45, 1.37, 1.41, 1.18, 1.20, 1.72, 2.14, 2.71],\n",
    "    'Gdansk': [1.52, 1.59, 1.65, 1.55, 1.48, 1.25, 1.00, 1.35, 1.00],\n",
    "    'Krakow': [1.92, 1.91, 1.16, 1.37, 1.24, 1.16, 1.30, 1.92, 1.95]\n",
    "}\n",
    "\n",
    "wr_building_craftsmen_df = pd.DataFrame(wr_building_craftsmen)\n",
    "\n",
    "display(wr_building_craftsmen_df)"
   ]
  },
  {
   "cell_type": "code",
   "execution_count": null,
   "metadata": {},
   "outputs": [],
   "source": []
  },
  {
   "cell_type": "code",
   "execution_count": 5,
   "metadata": {},
   "outputs": [
    {
     "data": {
      "application/vnd.plotly.v1+json": {
       "config": {
        "plotlyServerURL": "https://plot.ly"
       },
       "data": [
        {
         "mode": "lines",
         "name": "Antwerp",
         "type": "scatter",
         "x": [
          "1500-1549",
          "1550-1599",
          "1600-1649",
          "1650-1699",
          "1700-1749",
          "1750-1799",
          "1800-1849",
          "1850-1899",
          "1900-1913"
         ],
         "y": [
          2.41,
          2.26,
          2.27,
          2.13,
          2.23,
          2.13,
          2.01,
          2.27,
          3.07
         ]
        },
        {
         "mode": "lines",
         "name": "Amsterdam",
         "type": "scatter",
         "x": [
          "1500-1549",
          "1550-1599",
          "1600-1649",
          "1650-1699",
          "1700-1749",
          "1750-1799",
          "1800-1849",
          "1850-1899",
          "1900-1913"
         ],
         "y": [
          2.02,
          1.61,
          1.93,
          1.99,
          2.02,
          1.83,
          1.49,
          1.65,
          2.85
         ]
        },
        {
         "mode": "lines",
         "name": "London",
         "type": "scatter",
         "x": [
          "1500-1549",
          "1550-1599",
          "1600-1649",
          "1650-1699",
          "1700-1749",
          "1750-1799",
          "1800-1849",
          "1850-1899",
          "1900-1913"
         ],
         "y": [
          2.19,
          1.86,
          1.82,
          2.07,
          2.21,
          2.21,
          2.31,
          3.34,
          4.21
         ]
        },
        {
         "mode": "lines",
         "name": "Florence/Milan",
         "type": "scatter",
         "x": [
          "1500-1549",
          "1550-1599",
          "1600-1649",
          "1650-1699",
          "1700-1749",
          "1750-1799",
          "1800-1849",
          "1850-1899",
          "1900-1913"
         ],
         "y": [
          1.74,
          1.53,
          1.62,
          1.42,
          1.34,
          0.97,
          1.07,
          0.91,
          1.68
         ]
        },
        {
         "mode": "lines",
         "name": "Madrid",
         "type": "scatter",
         "x": [
          "1500-1549",
          "1550-1599",
          "1600-1649",
          "1650-1699",
          "1700-1749",
          "1750-1799",
          "1800-1849",
          "1850-1899",
          "1900-1913"
         ],
         "y": [
          1.61,
          1.83,
          1.81,
          1.91,
          1.29,
          1.75,
          1.72,
          1.87,
          1.75
         ]
        },
        {
         "mode": "lines",
         "name": "Paris",
         "type": "scatter",
         "x": [
          "1500-1549",
          "1550-1599",
          "1600-1649",
          "1650-1699",
          "1700-1749",
          "1750-1799",
          "1800-1849",
          "1850-1899",
          "1900-1913"
         ],
         "y": [
          1.41,
          1.45,
          1.37,
          1.41,
          1.18,
          1.2,
          1.72,
          2.14,
          2.71
         ]
        },
        {
         "mode": "lines",
         "name": "Gdansk",
         "type": "scatter",
         "x": [
          "1500-1549",
          "1550-1599",
          "1600-1649",
          "1650-1699",
          "1700-1749",
          "1750-1799",
          "1800-1849",
          "1850-1899",
          "1900-1913"
         ],
         "y": [
          1.52,
          1.59,
          1.65,
          1.55,
          1.48,
          1.25,
          1,
          1.35,
          1
         ]
        },
        {
         "mode": "lines",
         "name": "Krakow",
         "type": "scatter",
         "x": [
          "1500-1549",
          "1550-1599",
          "1600-1649",
          "1650-1699",
          "1700-1749",
          "1750-1799",
          "1800-1849",
          "1850-1899",
          "1900-1913"
         ],
         "y": [
          1.92,
          1.91,
          1.16,
          1.37,
          1.24,
          1.16,
          1.3,
          1.92,
          1.95
         ]
        }
       ],
       "layout": {
        "legend": {
         "title": {
          "text": "Cidades"
         }
        },
        "template": {
         "data": {
          "bar": [
           {
            "error_x": {
             "color": "#2a3f5f"
            },
            "error_y": {
             "color": "#2a3f5f"
            },
            "marker": {
             "line": {
              "color": "#E5ECF6",
              "width": 0.5
             },
             "pattern": {
              "fillmode": "overlay",
              "size": 10,
              "solidity": 0.2
             }
            },
            "type": "bar"
           }
          ],
          "barpolar": [
           {
            "marker": {
             "line": {
              "color": "#E5ECF6",
              "width": 0.5
             },
             "pattern": {
              "fillmode": "overlay",
              "size": 10,
              "solidity": 0.2
             }
            },
            "type": "barpolar"
           }
          ],
          "carpet": [
           {
            "aaxis": {
             "endlinecolor": "#2a3f5f",
             "gridcolor": "white",
             "linecolor": "white",
             "minorgridcolor": "white",
             "startlinecolor": "#2a3f5f"
            },
            "baxis": {
             "endlinecolor": "#2a3f5f",
             "gridcolor": "white",
             "linecolor": "white",
             "minorgridcolor": "white",
             "startlinecolor": "#2a3f5f"
            },
            "type": "carpet"
           }
          ],
          "choropleth": [
           {
            "colorbar": {
             "outlinewidth": 0,
             "ticks": ""
            },
            "type": "choropleth"
           }
          ],
          "contour": [
           {
            "colorbar": {
             "outlinewidth": 0,
             "ticks": ""
            },
            "colorscale": [
             [
              0,
              "#0d0887"
             ],
             [
              0.1111111111111111,
              "#46039f"
             ],
             [
              0.2222222222222222,
              "#7201a8"
             ],
             [
              0.3333333333333333,
              "#9c179e"
             ],
             [
              0.4444444444444444,
              "#bd3786"
             ],
             [
              0.5555555555555556,
              "#d8576b"
             ],
             [
              0.6666666666666666,
              "#ed7953"
             ],
             [
              0.7777777777777778,
              "#fb9f3a"
             ],
             [
              0.8888888888888888,
              "#fdca26"
             ],
             [
              1,
              "#f0f921"
             ]
            ],
            "type": "contour"
           }
          ],
          "contourcarpet": [
           {
            "colorbar": {
             "outlinewidth": 0,
             "ticks": ""
            },
            "type": "contourcarpet"
           }
          ],
          "heatmap": [
           {
            "colorbar": {
             "outlinewidth": 0,
             "ticks": ""
            },
            "colorscale": [
             [
              0,
              "#0d0887"
             ],
             [
              0.1111111111111111,
              "#46039f"
             ],
             [
              0.2222222222222222,
              "#7201a8"
             ],
             [
              0.3333333333333333,
              "#9c179e"
             ],
             [
              0.4444444444444444,
              "#bd3786"
             ],
             [
              0.5555555555555556,
              "#d8576b"
             ],
             [
              0.6666666666666666,
              "#ed7953"
             ],
             [
              0.7777777777777778,
              "#fb9f3a"
             ],
             [
              0.8888888888888888,
              "#fdca26"
             ],
             [
              1,
              "#f0f921"
             ]
            ],
            "type": "heatmap"
           }
          ],
          "heatmapgl": [
           {
            "colorbar": {
             "outlinewidth": 0,
             "ticks": ""
            },
            "colorscale": [
             [
              0,
              "#0d0887"
             ],
             [
              0.1111111111111111,
              "#46039f"
             ],
             [
              0.2222222222222222,
              "#7201a8"
             ],
             [
              0.3333333333333333,
              "#9c179e"
             ],
             [
              0.4444444444444444,
              "#bd3786"
             ],
             [
              0.5555555555555556,
              "#d8576b"
             ],
             [
              0.6666666666666666,
              "#ed7953"
             ],
             [
              0.7777777777777778,
              "#fb9f3a"
             ],
             [
              0.8888888888888888,
              "#fdca26"
             ],
             [
              1,
              "#f0f921"
             ]
            ],
            "type": "heatmapgl"
           }
          ],
          "histogram": [
           {
            "marker": {
             "pattern": {
              "fillmode": "overlay",
              "size": 10,
              "solidity": 0.2
             }
            },
            "type": "histogram"
           }
          ],
          "histogram2d": [
           {
            "colorbar": {
             "outlinewidth": 0,
             "ticks": ""
            },
            "colorscale": [
             [
              0,
              "#0d0887"
             ],
             [
              0.1111111111111111,
              "#46039f"
             ],
             [
              0.2222222222222222,
              "#7201a8"
             ],
             [
              0.3333333333333333,
              "#9c179e"
             ],
             [
              0.4444444444444444,
              "#bd3786"
             ],
             [
              0.5555555555555556,
              "#d8576b"
             ],
             [
              0.6666666666666666,
              "#ed7953"
             ],
             [
              0.7777777777777778,
              "#fb9f3a"
             ],
             [
              0.8888888888888888,
              "#fdca26"
             ],
             [
              1,
              "#f0f921"
             ]
            ],
            "type": "histogram2d"
           }
          ],
          "histogram2dcontour": [
           {
            "colorbar": {
             "outlinewidth": 0,
             "ticks": ""
            },
            "colorscale": [
             [
              0,
              "#0d0887"
             ],
             [
              0.1111111111111111,
              "#46039f"
             ],
             [
              0.2222222222222222,
              "#7201a8"
             ],
             [
              0.3333333333333333,
              "#9c179e"
             ],
             [
              0.4444444444444444,
              "#bd3786"
             ],
             [
              0.5555555555555556,
              "#d8576b"
             ],
             [
              0.6666666666666666,
              "#ed7953"
             ],
             [
              0.7777777777777778,
              "#fb9f3a"
             ],
             [
              0.8888888888888888,
              "#fdca26"
             ],
             [
              1,
              "#f0f921"
             ]
            ],
            "type": "histogram2dcontour"
           }
          ],
          "mesh3d": [
           {
            "colorbar": {
             "outlinewidth": 0,
             "ticks": ""
            },
            "type": "mesh3d"
           }
          ],
          "parcoords": [
           {
            "line": {
             "colorbar": {
              "outlinewidth": 0,
              "ticks": ""
             }
            },
            "type": "parcoords"
           }
          ],
          "pie": [
           {
            "automargin": true,
            "type": "pie"
           }
          ],
          "scatter": [
           {
            "fillpattern": {
             "fillmode": "overlay",
             "size": 10,
             "solidity": 0.2
            },
            "type": "scatter"
           }
          ],
          "scatter3d": [
           {
            "line": {
             "colorbar": {
              "outlinewidth": 0,
              "ticks": ""
             }
            },
            "marker": {
             "colorbar": {
              "outlinewidth": 0,
              "ticks": ""
             }
            },
            "type": "scatter3d"
           }
          ],
          "scattercarpet": [
           {
            "marker": {
             "colorbar": {
              "outlinewidth": 0,
              "ticks": ""
             }
            },
            "type": "scattercarpet"
           }
          ],
          "scattergeo": [
           {
            "marker": {
             "colorbar": {
              "outlinewidth": 0,
              "ticks": ""
             }
            },
            "type": "scattergeo"
           }
          ],
          "scattergl": [
           {
            "marker": {
             "colorbar": {
              "outlinewidth": 0,
              "ticks": ""
             }
            },
            "type": "scattergl"
           }
          ],
          "scattermapbox": [
           {
            "marker": {
             "colorbar": {
              "outlinewidth": 0,
              "ticks": ""
             }
            },
            "type": "scattermapbox"
           }
          ],
          "scatterpolar": [
           {
            "marker": {
             "colorbar": {
              "outlinewidth": 0,
              "ticks": ""
             }
            },
            "type": "scatterpolar"
           }
          ],
          "scatterpolargl": [
           {
            "marker": {
             "colorbar": {
              "outlinewidth": 0,
              "ticks": ""
             }
            },
            "type": "scatterpolargl"
           }
          ],
          "scatterternary": [
           {
            "marker": {
             "colorbar": {
              "outlinewidth": 0,
              "ticks": ""
             }
            },
            "type": "scatterternary"
           }
          ],
          "surface": [
           {
            "colorbar": {
             "outlinewidth": 0,
             "ticks": ""
            },
            "colorscale": [
             [
              0,
              "#0d0887"
             ],
             [
              0.1111111111111111,
              "#46039f"
             ],
             [
              0.2222222222222222,
              "#7201a8"
             ],
             [
              0.3333333333333333,
              "#9c179e"
             ],
             [
              0.4444444444444444,
              "#bd3786"
             ],
             [
              0.5555555555555556,
              "#d8576b"
             ],
             [
              0.6666666666666666,
              "#ed7953"
             ],
             [
              0.7777777777777778,
              "#fb9f3a"
             ],
             [
              0.8888888888888888,
              "#fdca26"
             ],
             [
              1,
              "#f0f921"
             ]
            ],
            "type": "surface"
           }
          ],
          "table": [
           {
            "cells": {
             "fill": {
              "color": "#EBF0F8"
             },
             "line": {
              "color": "white"
             }
            },
            "header": {
             "fill": {
              "color": "#C8D4E3"
             },
             "line": {
              "color": "white"
             }
            },
            "type": "table"
           }
          ]
         },
         "layout": {
          "annotationdefaults": {
           "arrowcolor": "#2a3f5f",
           "arrowhead": 0,
           "arrowwidth": 1
          },
          "autotypenumbers": "strict",
          "coloraxis": {
           "colorbar": {
            "outlinewidth": 0,
            "ticks": ""
           }
          },
          "colorscale": {
           "diverging": [
            [
             0,
             "#8e0152"
            ],
            [
             0.1,
             "#c51b7d"
            ],
            [
             0.2,
             "#de77ae"
            ],
            [
             0.3,
             "#f1b6da"
            ],
            [
             0.4,
             "#fde0ef"
            ],
            [
             0.5,
             "#f7f7f7"
            ],
            [
             0.6,
             "#e6f5d0"
            ],
            [
             0.7,
             "#b8e186"
            ],
            [
             0.8,
             "#7fbc41"
            ],
            [
             0.9,
             "#4d9221"
            ],
            [
             1,
             "#276419"
            ]
           ],
           "sequential": [
            [
             0,
             "#0d0887"
            ],
            [
             0.1111111111111111,
             "#46039f"
            ],
            [
             0.2222222222222222,
             "#7201a8"
            ],
            [
             0.3333333333333333,
             "#9c179e"
            ],
            [
             0.4444444444444444,
             "#bd3786"
            ],
            [
             0.5555555555555556,
             "#d8576b"
            ],
            [
             0.6666666666666666,
             "#ed7953"
            ],
            [
             0.7777777777777778,
             "#fb9f3a"
            ],
            [
             0.8888888888888888,
             "#fdca26"
            ],
            [
             1,
             "#f0f921"
            ]
           ],
           "sequentialminus": [
            [
             0,
             "#0d0887"
            ],
            [
             0.1111111111111111,
             "#46039f"
            ],
            [
             0.2222222222222222,
             "#7201a8"
            ],
            [
             0.3333333333333333,
             "#9c179e"
            ],
            [
             0.4444444444444444,
             "#bd3786"
            ],
            [
             0.5555555555555556,
             "#d8576b"
            ],
            [
             0.6666666666666666,
             "#ed7953"
            ],
            [
             0.7777777777777778,
             "#fb9f3a"
            ],
            [
             0.8888888888888888,
             "#fdca26"
            ],
            [
             1,
             "#f0f921"
            ]
           ]
          },
          "colorway": [
           "#636efa",
           "#EF553B",
           "#00cc96",
           "#ab63fa",
           "#FFA15A",
           "#19d3f3",
           "#FF6692",
           "#B6E880",
           "#FF97FF",
           "#FECB52"
          ],
          "font": {
           "color": "#2a3f5f"
          },
          "geo": {
           "bgcolor": "white",
           "lakecolor": "white",
           "landcolor": "#E5ECF6",
           "showlakes": true,
           "showland": true,
           "subunitcolor": "white"
          },
          "hoverlabel": {
           "align": "left"
          },
          "hovermode": "closest",
          "mapbox": {
           "style": "light"
          },
          "paper_bgcolor": "white",
          "plot_bgcolor": "#E5ECF6",
          "polar": {
           "angularaxis": {
            "gridcolor": "white",
            "linecolor": "white",
            "ticks": ""
           },
           "bgcolor": "#E5ECF6",
           "radialaxis": {
            "gridcolor": "white",
            "linecolor": "white",
            "ticks": ""
           }
          },
          "scene": {
           "xaxis": {
            "backgroundcolor": "#E5ECF6",
            "gridcolor": "white",
            "gridwidth": 2,
            "linecolor": "white",
            "showbackground": true,
            "ticks": "",
            "zerolinecolor": "white"
           },
           "yaxis": {
            "backgroundcolor": "#E5ECF6",
            "gridcolor": "white",
            "gridwidth": 2,
            "linecolor": "white",
            "showbackground": true,
            "ticks": "",
            "zerolinecolor": "white"
           },
           "zaxis": {
            "backgroundcolor": "#E5ECF6",
            "gridcolor": "white",
            "gridwidth": 2,
            "linecolor": "white",
            "showbackground": true,
            "ticks": "",
            "zerolinecolor": "white"
           }
          },
          "shapedefaults": {
           "line": {
            "color": "#2a3f5f"
           }
          },
          "ternary": {
           "aaxis": {
            "gridcolor": "white",
            "linecolor": "white",
            "ticks": ""
           },
           "baxis": {
            "gridcolor": "white",
            "linecolor": "white",
            "ticks": ""
           },
           "bgcolor": "#E5ECF6",
           "caxis": {
            "gridcolor": "white",
            "linecolor": "white",
            "ticks": ""
           }
          },
          "title": {
           "x": 0.05
          },
          "xaxis": {
           "automargin": true,
           "gridcolor": "white",
           "linecolor": "white",
           "ticks": "",
           "title": {
            "standoff": 15
           },
           "zerolinecolor": "white",
           "zerolinewidth": 2
          },
          "yaxis": {
           "automargin": true,
           "gridcolor": "white",
           "linecolor": "white",
           "ticks": "",
           "title": {
            "standoff": 15
           },
           "zerolinecolor": "white",
           "zerolinewidth": 2
          }
         }
        },
        "title": {
         "text": "Evolução do Welfare Ratio - Building Craftsmen",
         "x": 0.5
        },
        "yaxis": {
         "title": {
          "text": "Welfare Ratio"
         }
        }
       }
      }
     },
     "metadata": {},
     "output_type": "display_data"
    }
   ],
   "source": [
    "fig = go.Figure()\n",
    "\n",
    "for column in wr_building_craftsmen_df.columns[1:]:\n",
    "    fig.add_trace(go.Scatter(x=wr_building_craftsmen_df['Period'], y=wr_building_craftsmen_df[column],mode='lines', name=column))\n",
    "\n",
    "fig.update_layout(\n",
    "    yaxis_title='Welfare Ratio',\n",
    "    legend_title='Cidades',\n",
    "    template='plotly',\n",
    "    title_text='Evolução do Welfare Ratio - Building Craftsmen', title_x=0.5\n",
    ")\n",
    "\n",
    "fig.show()"
   ]
  },
  {
   "cell_type": "code",
   "execution_count": 6,
   "metadata": {},
   "outputs": [
    {
     "data": {
      "text/html": [
       "<div>\n",
       "<style scoped>\n",
       "    .dataframe tbody tr th:only-of-type {\n",
       "        vertical-align: middle;\n",
       "    }\n",
       "\n",
       "    .dataframe tbody tr th {\n",
       "        vertical-align: top;\n",
       "    }\n",
       "\n",
       "    .dataframe thead th {\n",
       "        text-align: right;\n",
       "    }\n",
       "</style>\n",
       "<table border=\"1\" class=\"dataframe\">\n",
       "  <thead>\n",
       "    <tr style=\"text-align: right;\">\n",
       "      <th></th>\n",
       "      <th>Period</th>\n",
       "      <th>Antwerp</th>\n",
       "      <th>Amsterdam</th>\n",
       "      <th>London</th>\n",
       "      <th>Florence/Milan</th>\n",
       "      <th>Madrid</th>\n",
       "      <th>Paris</th>\n",
       "      <th>Gdansk</th>\n",
       "      <th>Krakow</th>\n",
       "    </tr>\n",
       "  </thead>\n",
       "  <tbody>\n",
       "    <tr>\n",
       "      <th>0</th>\n",
       "      <td>1500-1549</td>\n",
       "      <td>1.40</td>\n",
       "      <td>1.37</td>\n",
       "      <td>1.42</td>\n",
       "      <td>0.92</td>\n",
       "      <td>0.80</td>\n",
       "      <td>0.89</td>\n",
       "      <td>1.07</td>\n",
       "      <td>0.97</td>\n",
       "    </tr>\n",
       "    <tr>\n",
       "      <th>1</th>\n",
       "      <td>1550-1599</td>\n",
       "      <td>1.28</td>\n",
       "      <td>1.07</td>\n",
       "      <td>1.26</td>\n",
       "      <td>0.78</td>\n",
       "      <td>0.74</td>\n",
       "      <td>0.87</td>\n",
       "      <td>0.73</td>\n",
       "      <td>1.06</td>\n",
       "    </tr>\n",
       "    <tr>\n",
       "      <th>2</th>\n",
       "      <td>1600-1649</td>\n",
       "      <td>1.36</td>\n",
       "      <td>1.34</td>\n",
       "      <td>1.16</td>\n",
       "      <td>0.73</td>\n",
       "      <td>0.94</td>\n",
       "      <td>0.85</td>\n",
       "      <td>0.96</td>\n",
       "      <td>0.92</td>\n",
       "    </tr>\n",
       "    <tr>\n",
       "      <th>3</th>\n",
       "      <td>1650-1699</td>\n",
       "      <td>1.28</td>\n",
       "      <td>1.42</td>\n",
       "      <td>1.37</td>\n",
       "      <td>0.72</td>\n",
       "      <td>0.76</td>\n",
       "      <td>0.87</td>\n",
       "      <td>1.05</td>\n",
       "      <td>0.96</td>\n",
       "    </tr>\n",
       "    <tr>\n",
       "      <th>4</th>\n",
       "      <td>1700-1749</td>\n",
       "      <td>1.34</td>\n",
       "      <td>1.55</td>\n",
       "      <td>1.58</td>\n",
       "      <td>0.70</td>\n",
       "      <td>0.87</td>\n",
       "      <td>0.80</td>\n",
       "      <td>0.98</td>\n",
       "      <td>0.85</td>\n",
       "    </tr>\n",
       "    <tr>\n",
       "      <th>5</th>\n",
       "      <td>1750-1799</td>\n",
       "      <td>1.28</td>\n",
       "      <td>1.41</td>\n",
       "      <td>1.42</td>\n",
       "      <td>0.51</td>\n",
       "      <td>0.64</td>\n",
       "      <td>0.74</td>\n",
       "      <td>0.72</td>\n",
       "      <td>0.88</td>\n",
       "    </tr>\n",
       "    <tr>\n",
       "      <th>6</th>\n",
       "      <td>1800-1849</td>\n",
       "      <td>1.21</td>\n",
       "      <td>1.13</td>\n",
       "      <td>1.41</td>\n",
       "      <td>0.39</td>\n",
       "      <td>0.95</td>\n",
       "      <td>1.08</td>\n",
       "      <td>0.60</td>\n",
       "      <td>0.60</td>\n",
       "    </tr>\n",
       "    <tr>\n",
       "      <th>7</th>\n",
       "      <td>1850-1899</td>\n",
       "      <td>1.39</td>\n",
       "      <td>1.25</td>\n",
       "      <td>2.15</td>\n",
       "      <td>0.50</td>\n",
       "      <td>0.95</td>\n",
       "      <td>1.32</td>\n",
       "      <td>0.62</td>\n",
       "      <td>0.87</td>\n",
       "    </tr>\n",
       "    <tr>\n",
       "      <th>8</th>\n",
       "      <td>1900-1913</td>\n",
       "      <td>1.86</td>\n",
       "      <td>2.16</td>\n",
       "      <td>2.82</td>\n",
       "      <td>0.83</td>\n",
       "      <td>1.04</td>\n",
       "      <td>1.86</td>\n",
       "      <td>1.34</td>\n",
       "      <td>1.34</td>\n",
       "    </tr>\n",
       "  </tbody>\n",
       "</table>\n",
       "</div>"
      ],
      "text/plain": [
       "      Period  Antwerp  Amsterdam  London  Florence/Milan  Madrid  Paris  \\\n",
       "0  1500-1549     1.40       1.37    1.42            0.92    0.80   0.89   \n",
       "1  1550-1599     1.28       1.07    1.26            0.78    0.74   0.87   \n",
       "2  1600-1649     1.36       1.34    1.16            0.73    0.94   0.85   \n",
       "3  1650-1699     1.28       1.42    1.37            0.72    0.76   0.87   \n",
       "4  1700-1749     1.34       1.55    1.58            0.70    0.87   0.80   \n",
       "5  1750-1799     1.28       1.41    1.42            0.51    0.64   0.74   \n",
       "6  1800-1849     1.21       1.13    1.41            0.39    0.95   1.08   \n",
       "7  1850-1899     1.39       1.25    2.15            0.50    0.95   1.32   \n",
       "8  1900-1913     1.86       2.16    2.82            0.83    1.04   1.86   \n",
       "\n",
       "   Gdansk  Krakow  \n",
       "0    1.07    0.97  \n",
       "1    0.73    1.06  \n",
       "2    0.96    0.92  \n",
       "3    1.05    0.96  \n",
       "4    0.98    0.85  \n",
       "5    0.72    0.88  \n",
       "6    0.60    0.60  \n",
       "7    0.62    0.87  \n",
       "8    1.34    1.34  "
      ]
     },
     "metadata": {},
     "output_type": "display_data"
    }
   ],
   "source": [
    "wr_building_laborers = {\n",
    "    'Period': ['1500-1549', '1550-1599', '1600-1649', '1650-1699', '1700-1749', '1750-1799', '1800-1849', '1850-1899', '1900-1913'],\n",
    "    'Antwerp': [1.40, 1.28, 1.36, 1.28, 1.34, 1.28, 1.21, 1.39, 1.86],\n",
    "    'Amsterdam': [1.37, 1.07, 1.34, 1.42, 1.55, 1.41, 1.13, 1.25, 2.16],\n",
    "    'London': [1.42, 1.26, 1.16, 1.37, 1.58, 1.42, 1.41, 2.15, 2.82],\n",
    "    'Florence/Milan': [0.92, 0.78, 0.73, 0.72, 0.70, 0.51, 0.39, 0.50, 0.83],\n",
    "    'Madrid': [0.80, 0.74, 0.94, 0.76, 0.87, 0.64, 0.95, 0.95, 1.04],\n",
    "    'Paris': [0.89, 0.87, 0.85, 0.87, 0.80, 0.74, 1.08, 1.32, 1.86],\n",
    "    'Gdansk': [1.07, 0.73, 0.96, 1.05, 0.98, 0.72, 0.60, 0.62, 1.34],\n",
    "    'Krakow': [0.97, 1.06, 0.92, 0.96, 0.85, 0.88, 0.60, 0.87, 1.34]\n",
    "}\n",
    "\n",
    "wr_building_laborers_df = pd.DataFrame(wr_building_laborers)\n",
    "\n",
    "display(wr_building_laborers_df)"
   ]
  },
  {
   "cell_type": "code",
   "execution_count": 7,
   "metadata": {},
   "outputs": [
    {
     "data": {
      "application/vnd.plotly.v1+json": {
       "config": {
        "plotlyServerURL": "https://plot.ly"
       },
       "data": [
        {
         "mode": "lines",
         "name": "Antwerp",
         "type": "scatter",
         "x": [
          "1500-1549",
          "1550-1599",
          "1600-1649",
          "1650-1699",
          "1700-1749",
          "1750-1799",
          "1800-1849",
          "1850-1899",
          "1900-1913"
         ],
         "y": [
          1.4,
          1.28,
          1.36,
          1.28,
          1.34,
          1.28,
          1.21,
          1.39,
          1.86
         ]
        },
        {
         "mode": "lines",
         "name": "Amsterdam",
         "type": "scatter",
         "x": [
          "1500-1549",
          "1550-1599",
          "1600-1649",
          "1650-1699",
          "1700-1749",
          "1750-1799",
          "1800-1849",
          "1850-1899",
          "1900-1913"
         ],
         "y": [
          1.37,
          1.07,
          1.34,
          1.42,
          1.55,
          1.41,
          1.13,
          1.25,
          2.16
         ]
        },
        {
         "mode": "lines",
         "name": "London",
         "type": "scatter",
         "x": [
          "1500-1549",
          "1550-1599",
          "1600-1649",
          "1650-1699",
          "1700-1749",
          "1750-1799",
          "1800-1849",
          "1850-1899",
          "1900-1913"
         ],
         "y": [
          1.42,
          1.26,
          1.16,
          1.37,
          1.58,
          1.42,
          1.41,
          2.15,
          2.82
         ]
        },
        {
         "mode": "lines",
         "name": "Florence/Milan",
         "type": "scatter",
         "x": [
          "1500-1549",
          "1550-1599",
          "1600-1649",
          "1650-1699",
          "1700-1749",
          "1750-1799",
          "1800-1849",
          "1850-1899",
          "1900-1913"
         ],
         "y": [
          0.92,
          0.78,
          0.73,
          0.72,
          0.7,
          0.51,
          0.39,
          0.5,
          0.83
         ]
        },
        {
         "mode": "lines",
         "name": "Madrid",
         "type": "scatter",
         "x": [
          "1500-1549",
          "1550-1599",
          "1600-1649",
          "1650-1699",
          "1700-1749",
          "1750-1799",
          "1800-1849",
          "1850-1899",
          "1900-1913"
         ],
         "y": [
          0.8,
          0.74,
          0.94,
          0.76,
          0.87,
          0.64,
          0.95,
          0.95,
          1.04
         ]
        },
        {
         "mode": "lines",
         "name": "Paris",
         "type": "scatter",
         "x": [
          "1500-1549",
          "1550-1599",
          "1600-1649",
          "1650-1699",
          "1700-1749",
          "1750-1799",
          "1800-1849",
          "1850-1899",
          "1900-1913"
         ],
         "y": [
          0.89,
          0.87,
          0.85,
          0.87,
          0.8,
          0.74,
          1.08,
          1.32,
          1.86
         ]
        },
        {
         "mode": "lines",
         "name": "Gdansk",
         "type": "scatter",
         "x": [
          "1500-1549",
          "1550-1599",
          "1600-1649",
          "1650-1699",
          "1700-1749",
          "1750-1799",
          "1800-1849",
          "1850-1899",
          "1900-1913"
         ],
         "y": [
          1.07,
          0.73,
          0.96,
          1.05,
          0.98,
          0.72,
          0.6,
          0.62,
          1.34
         ]
        },
        {
         "mode": "lines",
         "name": "Krakow",
         "type": "scatter",
         "x": [
          "1500-1549",
          "1550-1599",
          "1600-1649",
          "1650-1699",
          "1700-1749",
          "1750-1799",
          "1800-1849",
          "1850-1899",
          "1900-1913"
         ],
         "y": [
          0.97,
          1.06,
          0.92,
          0.96,
          0.85,
          0.88,
          0.6,
          0.87,
          1.34
         ]
        }
       ],
       "layout": {
        "legend": {
         "title": {
          "text": "Cidades"
         }
        },
        "template": {
         "data": {
          "bar": [
           {
            "error_x": {
             "color": "#2a3f5f"
            },
            "error_y": {
             "color": "#2a3f5f"
            },
            "marker": {
             "line": {
              "color": "#E5ECF6",
              "width": 0.5
             },
             "pattern": {
              "fillmode": "overlay",
              "size": 10,
              "solidity": 0.2
             }
            },
            "type": "bar"
           }
          ],
          "barpolar": [
           {
            "marker": {
             "line": {
              "color": "#E5ECF6",
              "width": 0.5
             },
             "pattern": {
              "fillmode": "overlay",
              "size": 10,
              "solidity": 0.2
             }
            },
            "type": "barpolar"
           }
          ],
          "carpet": [
           {
            "aaxis": {
             "endlinecolor": "#2a3f5f",
             "gridcolor": "white",
             "linecolor": "white",
             "minorgridcolor": "white",
             "startlinecolor": "#2a3f5f"
            },
            "baxis": {
             "endlinecolor": "#2a3f5f",
             "gridcolor": "white",
             "linecolor": "white",
             "minorgridcolor": "white",
             "startlinecolor": "#2a3f5f"
            },
            "type": "carpet"
           }
          ],
          "choropleth": [
           {
            "colorbar": {
             "outlinewidth": 0,
             "ticks": ""
            },
            "type": "choropleth"
           }
          ],
          "contour": [
           {
            "colorbar": {
             "outlinewidth": 0,
             "ticks": ""
            },
            "colorscale": [
             [
              0,
              "#0d0887"
             ],
             [
              0.1111111111111111,
              "#46039f"
             ],
             [
              0.2222222222222222,
              "#7201a8"
             ],
             [
              0.3333333333333333,
              "#9c179e"
             ],
             [
              0.4444444444444444,
              "#bd3786"
             ],
             [
              0.5555555555555556,
              "#d8576b"
             ],
             [
              0.6666666666666666,
              "#ed7953"
             ],
             [
              0.7777777777777778,
              "#fb9f3a"
             ],
             [
              0.8888888888888888,
              "#fdca26"
             ],
             [
              1,
              "#f0f921"
             ]
            ],
            "type": "contour"
           }
          ],
          "contourcarpet": [
           {
            "colorbar": {
             "outlinewidth": 0,
             "ticks": ""
            },
            "type": "contourcarpet"
           }
          ],
          "heatmap": [
           {
            "colorbar": {
             "outlinewidth": 0,
             "ticks": ""
            },
            "colorscale": [
             [
              0,
              "#0d0887"
             ],
             [
              0.1111111111111111,
              "#46039f"
             ],
             [
              0.2222222222222222,
              "#7201a8"
             ],
             [
              0.3333333333333333,
              "#9c179e"
             ],
             [
              0.4444444444444444,
              "#bd3786"
             ],
             [
              0.5555555555555556,
              "#d8576b"
             ],
             [
              0.6666666666666666,
              "#ed7953"
             ],
             [
              0.7777777777777778,
              "#fb9f3a"
             ],
             [
              0.8888888888888888,
              "#fdca26"
             ],
             [
              1,
              "#f0f921"
             ]
            ],
            "type": "heatmap"
           }
          ],
          "heatmapgl": [
           {
            "colorbar": {
             "outlinewidth": 0,
             "ticks": ""
            },
            "colorscale": [
             [
              0,
              "#0d0887"
             ],
             [
              0.1111111111111111,
              "#46039f"
             ],
             [
              0.2222222222222222,
              "#7201a8"
             ],
             [
              0.3333333333333333,
              "#9c179e"
             ],
             [
              0.4444444444444444,
              "#bd3786"
             ],
             [
              0.5555555555555556,
              "#d8576b"
             ],
             [
              0.6666666666666666,
              "#ed7953"
             ],
             [
              0.7777777777777778,
              "#fb9f3a"
             ],
             [
              0.8888888888888888,
              "#fdca26"
             ],
             [
              1,
              "#f0f921"
             ]
            ],
            "type": "heatmapgl"
           }
          ],
          "histogram": [
           {
            "marker": {
             "pattern": {
              "fillmode": "overlay",
              "size": 10,
              "solidity": 0.2
             }
            },
            "type": "histogram"
           }
          ],
          "histogram2d": [
           {
            "colorbar": {
             "outlinewidth": 0,
             "ticks": ""
            },
            "colorscale": [
             [
              0,
              "#0d0887"
             ],
             [
              0.1111111111111111,
              "#46039f"
             ],
             [
              0.2222222222222222,
              "#7201a8"
             ],
             [
              0.3333333333333333,
              "#9c179e"
             ],
             [
              0.4444444444444444,
              "#bd3786"
             ],
             [
              0.5555555555555556,
              "#d8576b"
             ],
             [
              0.6666666666666666,
              "#ed7953"
             ],
             [
              0.7777777777777778,
              "#fb9f3a"
             ],
             [
              0.8888888888888888,
              "#fdca26"
             ],
             [
              1,
              "#f0f921"
             ]
            ],
            "type": "histogram2d"
           }
          ],
          "histogram2dcontour": [
           {
            "colorbar": {
             "outlinewidth": 0,
             "ticks": ""
            },
            "colorscale": [
             [
              0,
              "#0d0887"
             ],
             [
              0.1111111111111111,
              "#46039f"
             ],
             [
              0.2222222222222222,
              "#7201a8"
             ],
             [
              0.3333333333333333,
              "#9c179e"
             ],
             [
              0.4444444444444444,
              "#bd3786"
             ],
             [
              0.5555555555555556,
              "#d8576b"
             ],
             [
              0.6666666666666666,
              "#ed7953"
             ],
             [
              0.7777777777777778,
              "#fb9f3a"
             ],
             [
              0.8888888888888888,
              "#fdca26"
             ],
             [
              1,
              "#f0f921"
             ]
            ],
            "type": "histogram2dcontour"
           }
          ],
          "mesh3d": [
           {
            "colorbar": {
             "outlinewidth": 0,
             "ticks": ""
            },
            "type": "mesh3d"
           }
          ],
          "parcoords": [
           {
            "line": {
             "colorbar": {
              "outlinewidth": 0,
              "ticks": ""
             }
            },
            "type": "parcoords"
           }
          ],
          "pie": [
           {
            "automargin": true,
            "type": "pie"
           }
          ],
          "scatter": [
           {
            "fillpattern": {
             "fillmode": "overlay",
             "size": 10,
             "solidity": 0.2
            },
            "type": "scatter"
           }
          ],
          "scatter3d": [
           {
            "line": {
             "colorbar": {
              "outlinewidth": 0,
              "ticks": ""
             }
            },
            "marker": {
             "colorbar": {
              "outlinewidth": 0,
              "ticks": ""
             }
            },
            "type": "scatter3d"
           }
          ],
          "scattercarpet": [
           {
            "marker": {
             "colorbar": {
              "outlinewidth": 0,
              "ticks": ""
             }
            },
            "type": "scattercarpet"
           }
          ],
          "scattergeo": [
           {
            "marker": {
             "colorbar": {
              "outlinewidth": 0,
              "ticks": ""
             }
            },
            "type": "scattergeo"
           }
          ],
          "scattergl": [
           {
            "marker": {
             "colorbar": {
              "outlinewidth": 0,
              "ticks": ""
             }
            },
            "type": "scattergl"
           }
          ],
          "scattermapbox": [
           {
            "marker": {
             "colorbar": {
              "outlinewidth": 0,
              "ticks": ""
             }
            },
            "type": "scattermapbox"
           }
          ],
          "scatterpolar": [
           {
            "marker": {
             "colorbar": {
              "outlinewidth": 0,
              "ticks": ""
             }
            },
            "type": "scatterpolar"
           }
          ],
          "scatterpolargl": [
           {
            "marker": {
             "colorbar": {
              "outlinewidth": 0,
              "ticks": ""
             }
            },
            "type": "scatterpolargl"
           }
          ],
          "scatterternary": [
           {
            "marker": {
             "colorbar": {
              "outlinewidth": 0,
              "ticks": ""
             }
            },
            "type": "scatterternary"
           }
          ],
          "surface": [
           {
            "colorbar": {
             "outlinewidth": 0,
             "ticks": ""
            },
            "colorscale": [
             [
              0,
              "#0d0887"
             ],
             [
              0.1111111111111111,
              "#46039f"
             ],
             [
              0.2222222222222222,
              "#7201a8"
             ],
             [
              0.3333333333333333,
              "#9c179e"
             ],
             [
              0.4444444444444444,
              "#bd3786"
             ],
             [
              0.5555555555555556,
              "#d8576b"
             ],
             [
              0.6666666666666666,
              "#ed7953"
             ],
             [
              0.7777777777777778,
              "#fb9f3a"
             ],
             [
              0.8888888888888888,
              "#fdca26"
             ],
             [
              1,
              "#f0f921"
             ]
            ],
            "type": "surface"
           }
          ],
          "table": [
           {
            "cells": {
             "fill": {
              "color": "#EBF0F8"
             },
             "line": {
              "color": "white"
             }
            },
            "header": {
             "fill": {
              "color": "#C8D4E3"
             },
             "line": {
              "color": "white"
             }
            },
            "type": "table"
           }
          ]
         },
         "layout": {
          "annotationdefaults": {
           "arrowcolor": "#2a3f5f",
           "arrowhead": 0,
           "arrowwidth": 1
          },
          "autotypenumbers": "strict",
          "coloraxis": {
           "colorbar": {
            "outlinewidth": 0,
            "ticks": ""
           }
          },
          "colorscale": {
           "diverging": [
            [
             0,
             "#8e0152"
            ],
            [
             0.1,
             "#c51b7d"
            ],
            [
             0.2,
             "#de77ae"
            ],
            [
             0.3,
             "#f1b6da"
            ],
            [
             0.4,
             "#fde0ef"
            ],
            [
             0.5,
             "#f7f7f7"
            ],
            [
             0.6,
             "#e6f5d0"
            ],
            [
             0.7,
             "#b8e186"
            ],
            [
             0.8,
             "#7fbc41"
            ],
            [
             0.9,
             "#4d9221"
            ],
            [
             1,
             "#276419"
            ]
           ],
           "sequential": [
            [
             0,
             "#0d0887"
            ],
            [
             0.1111111111111111,
             "#46039f"
            ],
            [
             0.2222222222222222,
             "#7201a8"
            ],
            [
             0.3333333333333333,
             "#9c179e"
            ],
            [
             0.4444444444444444,
             "#bd3786"
            ],
            [
             0.5555555555555556,
             "#d8576b"
            ],
            [
             0.6666666666666666,
             "#ed7953"
            ],
            [
             0.7777777777777778,
             "#fb9f3a"
            ],
            [
             0.8888888888888888,
             "#fdca26"
            ],
            [
             1,
             "#f0f921"
            ]
           ],
           "sequentialminus": [
            [
             0,
             "#0d0887"
            ],
            [
             0.1111111111111111,
             "#46039f"
            ],
            [
             0.2222222222222222,
             "#7201a8"
            ],
            [
             0.3333333333333333,
             "#9c179e"
            ],
            [
             0.4444444444444444,
             "#bd3786"
            ],
            [
             0.5555555555555556,
             "#d8576b"
            ],
            [
             0.6666666666666666,
             "#ed7953"
            ],
            [
             0.7777777777777778,
             "#fb9f3a"
            ],
            [
             0.8888888888888888,
             "#fdca26"
            ],
            [
             1,
             "#f0f921"
            ]
           ]
          },
          "colorway": [
           "#636efa",
           "#EF553B",
           "#00cc96",
           "#ab63fa",
           "#FFA15A",
           "#19d3f3",
           "#FF6692",
           "#B6E880",
           "#FF97FF",
           "#FECB52"
          ],
          "font": {
           "color": "#2a3f5f"
          },
          "geo": {
           "bgcolor": "white",
           "lakecolor": "white",
           "landcolor": "#E5ECF6",
           "showlakes": true,
           "showland": true,
           "subunitcolor": "white"
          },
          "hoverlabel": {
           "align": "left"
          },
          "hovermode": "closest",
          "mapbox": {
           "style": "light"
          },
          "paper_bgcolor": "white",
          "plot_bgcolor": "#E5ECF6",
          "polar": {
           "angularaxis": {
            "gridcolor": "white",
            "linecolor": "white",
            "ticks": ""
           },
           "bgcolor": "#E5ECF6",
           "radialaxis": {
            "gridcolor": "white",
            "linecolor": "white",
            "ticks": ""
           }
          },
          "scene": {
           "xaxis": {
            "backgroundcolor": "#E5ECF6",
            "gridcolor": "white",
            "gridwidth": 2,
            "linecolor": "white",
            "showbackground": true,
            "ticks": "",
            "zerolinecolor": "white"
           },
           "yaxis": {
            "backgroundcolor": "#E5ECF6",
            "gridcolor": "white",
            "gridwidth": 2,
            "linecolor": "white",
            "showbackground": true,
            "ticks": "",
            "zerolinecolor": "white"
           },
           "zaxis": {
            "backgroundcolor": "#E5ECF6",
            "gridcolor": "white",
            "gridwidth": 2,
            "linecolor": "white",
            "showbackground": true,
            "ticks": "",
            "zerolinecolor": "white"
           }
          },
          "shapedefaults": {
           "line": {
            "color": "#2a3f5f"
           }
          },
          "ternary": {
           "aaxis": {
            "gridcolor": "white",
            "linecolor": "white",
            "ticks": ""
           },
           "baxis": {
            "gridcolor": "white",
            "linecolor": "white",
            "ticks": ""
           },
           "bgcolor": "#E5ECF6",
           "caxis": {
            "gridcolor": "white",
            "linecolor": "white",
            "ticks": ""
           }
          },
          "title": {
           "x": 0.05
          },
          "xaxis": {
           "automargin": true,
           "gridcolor": "white",
           "linecolor": "white",
           "ticks": "",
           "title": {
            "standoff": 15
           },
           "zerolinecolor": "white",
           "zerolinewidth": 2
          },
          "yaxis": {
           "automargin": true,
           "gridcolor": "white",
           "linecolor": "white",
           "ticks": "",
           "title": {
            "standoff": 15
           },
           "zerolinecolor": "white",
           "zerolinewidth": 2
          }
         }
        },
        "title": {
         "text": "Evolução do Welfare Ratio - Building Laborers",
         "x": 0.5
        },
        "yaxis": {
         "title": {
          "text": "Welfare Ratio"
         }
        }
       }
      }
     },
     "metadata": {},
     "output_type": "display_data"
    }
   ],
   "source": [
    "fig2 = go.Figure()\n",
    "\n",
    "for column in wr_building_laborers_df.columns[1:]:\n",
    "    fig2.add_trace(go.Scatter(x=wr_building_laborers_df['Period'], y=wr_building_laborers_df[column],mode='lines', name=column))\n",
    "\n",
    "fig2.update_layout(\n",
    "    yaxis_title='Welfare Ratio',\n",
    "    legend_title='Cidades',\n",
    "    template='plotly',\n",
    "    title_text='Evolução do Welfare Ratio - Building Laborers', title_x=0.5\n",
    ")\n",
    "\n",
    "fig2.show()"
   ]
  }
 ],
 "metadata": {
  "kernelspec": {
   "display_name": "base",
   "language": "python",
   "name": "python3"
  },
  "language_info": {
   "codemirror_mode": {
    "name": "ipython",
    "version": 3
   },
   "file_extension": ".py",
   "mimetype": "text/x-python",
   "name": "python",
   "nbconvert_exporter": "python",
   "pygments_lexer": "ipython3",
   "version": "3.11.7"
  }
 },
 "nbformat": 4,
 "nbformat_minor": 2
}
